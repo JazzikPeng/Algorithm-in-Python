{
 "cells": [
  {
   "cell_type": "code",
   "execution_count": 217,
   "metadata": {
    "collapsed": true
   },
   "outputs": [],
   "source": [
    "import math\n",
    "# Karatsuba Multiplication\n",
    "def karasuba_multiplication(x, y):\n",
    "    # base case\n",
    "    if (x >= 0 and x <10) or (y>=0 and y<10):\n",
    "        return x * y\n",
    "    else:\n",
    "#        print(x, y)\n",
    "        # x , y are now binary number without '0b' label, from here we need to get a,b\n",
    "        n = int(max(len(str(x)), len(str(y)))/2)\n",
    "\n",
    "#        print('n', n)\n",
    "        a = x // 10**(n) # need test for even odd number， use // instead of / for integer value\n",
    "        b = x % 10**n\n",
    "        c = y // 10**(n)\n",
    "        d = y % 10**(n)\n",
    "        a_c = karasuba_multiplication(a,c)\n",
    "        b_d = karasuba_multiplication(b,d)\n",
    "        gauss_trick = karasuba_multiplication(a+b, c+d)\n",
    "        return int(10 **(n * 2) * a_c + 10**(n) *(gauss_trick - a_c - b_d) + b_d)\n",
    "        \n",
    "\n",
    "   #     gauss_trick = karasuba_multiplication(a)\n",
    "    \n"
   ]
  }
 ],
 "metadata": {
  "kernelspec": {
   "display_name": "Python 3",
   "language": "python",
   "name": "python3"
  },
  "language_info": {
   "codemirror_mode": {
    "name": "ipython",
    "version": 3
   },
   "file_extension": ".py",
   "mimetype": "text/x-python",
   "name": "python",
   "nbconvert_exporter": "python",
   "pygments_lexer": "ipython3",
   "version": "3.6.3"
  }
 },
 "nbformat": 4,
 "nbformat_minor": 2
}
