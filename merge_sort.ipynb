{
 "cells": [
  {
   "cell_type": "code",
   "execution_count": 30,
   "metadata": {
    "collapsed": true
   },
   "outputs": [],
   "source": [
    "def merge(a,b):\n",
    "    c = []\n",
    "    while len(a)!=0 and len(b)!=0:\n",
    "        if a[0] < b[0]: # append the small number first, and remove appeneded element\n",
    "            c.append(a[0])\n",
    "            a.remove(a[0])\n",
    "        else:\n",
    "            c.append(b[0])\n",
    "            b.remove(b[0])\n",
    "    if len(a) == 0:\n",
    "        c +=b\n",
    "    else:\n",
    "        c +=a\n",
    "    return c\n",
    "def merge_sort(x):\n",
    "    # split x\n",
    "    if len(x) == 0 or len(x) ==1:\n",
    "        return x\n",
    "    mid_point = len(x)//2\n",
    "    a = x[:mid_point]\n",
    "    b = x[mid_point:]\n",
    "    first_half = merge_sort(a)\n",
    "    second_half = merge_sort(b)\n",
    "    return merge(first_half, second_half)"
   ]
  },
  {
   "cell_type": "code",
   "execution_count": 36,
   "metadata": {},
   "outputs": [
    {
     "name": "stdout",
     "output_type": "stream",
     "text": [
      "[1, 1, 2, 2, 3, 4, 4]\n"
     ]
    }
   ],
   "source": [
    "x = [3,2,1,4,2,4,1]\n",
    "print(merge_sort(x))"
   ]
  },
  {
   "cell_type": "code",
   "execution_count": null,
   "metadata": {
    "collapsed": true
   },
   "outputs": [],
   "source": []
  }
 ],
 "metadata": {
  "kernelspec": {
   "display_name": "Python 3",
   "language": "python",
   "name": "python3"
  },
  "language_info": {
   "codemirror_mode": {
    "name": "ipython",
    "version": 3
   },
   "file_extension": ".py",
   "mimetype": "text/x-python",
   "name": "python",
   "nbconvert_exporter": "python",
   "pygments_lexer": "ipython3",
   "version": "3.6.3"
  }
 },
 "nbformat": 4,
 "nbformat_minor": 2
}
