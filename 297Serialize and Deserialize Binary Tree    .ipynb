{
 "cells": [
  {
   "cell_type": "code",
   "execution_count": null,
   "metadata": {},
   "outputs": [],
   "source": [
    "# 297 Serialize and Deserialize Binary Tree  "
   ]
  },
  {
   "cell_type": "code",
   "execution_count": 468,
   "metadata": {},
   "outputs": [],
   "source": [
    "class Codec:\n",
    "    \n",
    "    def serialize(self, root):\n",
    "        \"\"\"Encodes a tree to a single string.\n",
    "        \n",
    "        :type root: TreeNode\n",
    "        :rtype: str\n",
    "        \"\"\"\n",
    "        def helper(root):\n",
    "            if root==None:\n",
    "                result.append('null')\n",
    "                return\n",
    "        # print(root.val)\n",
    "            result.append(root.val)\n",
    "            helper(root.left)\n",
    "            helper(root.right)\n",
    "        result = []\n",
    "        helper(root)\n",
    "        return result\n",
    "    \n",
    "    def deserialize(self, data):\n",
    "        \"\"\"Decodes your encoded data to tree.\n",
    "        \n",
    "        :type data: str\n",
    "        :rtype: TreeNode\n",
    "        \"\"\"\n",
    "        def helper2(data):\n",
    "            index = len(temp)\n",
    "            val = data[index]\n",
    "            # print(index)\n",
    "            temp.append(1)\n",
    "            # print(data)\n",
    "            if  val == 'null':\n",
    "                return None\n",
    "            root = TreeNode(val)\n",
    "            # print(root.val)\n",
    "            root.left = helper2(data)\n",
    "            root.right= helper2(data)\n",
    "            return root\n",
    "        if data == None:\n",
    "            return\n",
    "        # Temp list are used for counter\n",
    "        temp = []\n",
    "        root = helper2(data)\n",
    "        return root\n",
    "            "
   ]
  },
  {
   "cell_type": "code",
   "execution_count": 469,
   "metadata": {},
   "outputs": [],
   "source": [
    "root = TreeNode(1)\n",
    "root.left = TreeNode(2)\n",
    "root.right = TreeNode(3)\n",
    "root.right.left = TreeNode(4)\n",
    "root.right.right = TreeNode(5)\n",
    "# # root.left.left = TreeNode(6)"
   ]
  },
  {
   "cell_type": "code",
   "execution_count": 470,
   "metadata": {},
   "outputs": [],
   "source": [
    "b = Codec()\n",
    "data = b.serialize(root)\n",
    "root = b.deserialize(data)\n",
    "print(root.right.left.val)"
   ]
  },
  {
   "cell_type": "code",
   "execution_count": 471,
   "metadata": {},
   "outputs": [
    {
     "data": {
      "text/plain": [
       "4"
      ]
     },
     "execution_count": 471,
     "metadata": {},
     "output_type": "execute_result"
    }
   ],
   "source": [
    "root.right.left.val"
   ]
  },
  {
   "cell_type": "code",
   "execution_count": 472,
   "metadata": {},
   "outputs": [],
   "source": [
    "# solution 2\n",
    "class Codec:\n",
    "\n",
    "    def serialize(self, root):\n",
    "        def doit(node):\n",
    "            if node:\n",
    "                vals.append(str(node.val))\n",
    "                doit(node.left)\n",
    "                doit(node.right)\n",
    "            else:\n",
    "                vals.append('#')\n",
    "        vals = []\n",
    "        doit(root)\n",
    "        print(vals)\n",
    "        return ' '.join(vals)\n",
    "\n",
    "    def deserialize(self, data):\n",
    "        def doit():\n",
    "            val = next(vals)\n",
    "            if val == '#':\n",
    "                return None\n",
    "            node = TreeNode(int(val))\n",
    "            node.left = doit()\n",
    "            node.right = doit()\n",
    "            return node\n",
    "        vals = iter(data.split())\n",
    "        return doit()"
   ]
  },
  {
   "cell_type": "code",
   "execution_count": 473,
   "metadata": {},
   "outputs": [
    {
     "name": "stdout",
     "output_type": "stream",
     "text": [
      "['1', '2', '#', '#', '3', '4', '#', '#', '5', '#', '#']\n"
     ]
    },
    {
     "data": {
      "text/plain": [
       "'1 2 # # 3 4 # # 5 # #'"
      ]
     },
     "execution_count": 473,
     "metadata": {},
     "output_type": "execute_result"
    }
   ],
   "source": [
    "root = TreeNode(1)\n",
    "root.left = TreeNode(2)\n",
    "root.right = TreeNode(3)\n",
    "root.right.left = TreeNode(4)\n",
    "root.right.right = TreeNode(5)\n",
    "\n",
    "b = Codec()\n",
    "\n",
    "b.serialize(root)"
   ]
  },
  {
   "cell_type": "code",
   "execution_count": null,
   "metadata": {},
   "outputs": [],
   "source": []
  },
  {
   "cell_type": "code",
   "execution_count": null,
   "metadata": {},
   "outputs": [],
   "source": []
  }
 ],
 "metadata": {
  "kernelspec": {
   "display_name": "Python 3",
   "language": "python",
   "name": "python3"
  },
  "language_info": {
   "codemirror_mode": {
    "name": "ipython",
    "version": 3
   },
   "file_extension": ".py",
   "mimetype": "text/x-python",
   "name": "python",
   "nbconvert_exporter": "python",
   "pygments_lexer": "ipython3",
   "version": "3.6.3"
  }
 },
 "nbformat": 4,
 "nbformat_minor": 2
}
